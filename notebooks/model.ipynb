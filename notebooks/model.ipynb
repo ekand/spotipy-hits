{
 "cells": [
  {
   "cell_type": "code",
   "execution_count": 1,
   "metadata": {},
   "outputs": [
    {
     "name": "stdout",
     "output_type": "stream",
     "text": [
      "/Users/erik/metis/spotipy_hits\n"
     ]
    }
   ],
   "source": [
    "import os\n",
    "import sys\n",
    "\n",
    "import pandas as pd\n",
    "import numpy as np\n",
    "\n",
    "import matplotlib.pyplot as plt\n",
    "\n",
    "project_dir = str(os.path.dirname((os.path.abspath(''))))\n",
    "sys.path.append(project_dir)\n",
    "print(project_dir)\n",
    "\n",
    "\n",
    "\n",
    "from sklearn.linear_model import LinearRegression\n",
    "# from sklearn.model_selection import train_test_split\n",
    "from sklearn.metrics import mean_squared_error, mean_absolute_error\n",
    "\n",
    "\n",
    "import statsmodels.api as sm\n",
    "\n",
    "import  datetime\n",
    "\n",
    "import math\n",
    "\n",
    "import seaborn as sns\n",
    "\n",
    "import statsmodels.api as sms"
   ]
  },
  {
   "cell_type": "markdown",
   "metadata": {},
   "source": [
    "# Load data"
   ]
  },
  {
   "cell_type": "markdown",
   "metadata": {},
   "source": [
    "## Load dataframe from csv: merged spotify and rolling stone data"
   ]
  },
  {
   "cell_type": "code",
   "execution_count": 2,
   "metadata": {},
   "outputs": [
    {
     "name": "stdout",
     "output_type": "stream",
     "text": [
      "/Users/erik/metis/spotipy_hits/data/processed/df_spot_rs_merge_basic.csv\n"
     ]
    }
   ],
   "source": [
    "base_path = project_dir + '/data/processed/'\n",
    "file_name = 'df_spot_rs_merge_basic.csv'\n",
    "print(base_path + file_name)\n",
    "df_spot_rs_merge = pd.read_csv(base_path + file_name)\n",
    "df_spot_rs_merge = df_spot_rs_merge.drop(['Unnamed: 0'], axis=1)"
   ]
  },
  {
   "cell_type": "markdown",
   "metadata": {},
   "source": [
    "# Prepare data"
   ]
  },
  {
   "cell_type": "markdown",
   "metadata": {},
   "source": [
    "## Add log score to dataframe"
   ]
  },
  {
   "cell_type": "code",
   "execution_count": 3,
   "metadata": {},
   "outputs": [],
   "source": [
    "df_spot_rs_merge['log_score'] = np.log10(df_spot_rs_merge['year_rank_score'])"
   ]
  },
  {
   "cell_type": "markdown",
   "metadata": {},
   "source": [
    "And rearrange columns"
   ]
  },
  {
   "cell_type": "code",
   "execution_count": 4,
   "metadata": {},
   "outputs": [],
   "source": [
    "df_spot_rs_merge = df_spot_rs_merge[['year_rank_score', 'log_score', 'year_album_units', 'avg_vol', 'total_tracks',\n",
    "       'duration', 'release_date', 'record_label', 'title_cleaned',\n",
    "       'caption_artist', 'album_id']]"
   ]
  },
  {
   "cell_type": "markdown",
   "metadata": {},
   "source": [
    "## Add dummy variables for record_label to dataframe"
   ]
  },
  {
   "cell_type": "code",
   "execution_count": 5,
   "metadata": {},
   "outputs": [],
   "source": [
    "df_spot_rs_merge = pd.get_dummies(df_spot_rs_merge, columns=['record_label'])"
   ]
  },
  {
   "cell_type": "code",
   "execution_count": 7,
   "metadata": {},
   "outputs": [],
   "source": [
    "# df"
   ]
  },
  {
   "cell_type": "markdown",
   "metadata": {},
   "source": [
    "# Run Basic Linear Regression Model"
   ]
  },
  {
   "cell_type": "markdown",
   "metadata": {},
   "source": [
    "## First, without record label columns\n",
    "### in statsmodels"
   ]
  },
  {
   "cell_type": "code",
   "execution_count": 8,
   "metadata": {},
   "outputs": [
    {
     "name": "stderr",
     "output_type": "stream",
     "text": [
      "/Users/erik/anaconda3/envs/metis/lib/python3.7/site-packages/numpy/core/fromnumeric.py:2495: FutureWarning: Method .ptp is deprecated and will be removed in a future version. Use numpy.ptp instead.\n",
      "  return ptp(axis=axis, out=out, **kwargs)\n"
     ]
    },
    {
     "data": {
      "text/html": [
       "<table class=\"simpletable\">\n",
       "<caption>OLS Regression Results</caption>\n",
       "<tr>\n",
       "  <th>Dep. Variable:</th>     <td>year_rank_score</td> <th>  R-squared:         </th> <td>   0.012</td>\n",
       "</tr>\n",
       "<tr>\n",
       "  <th>Model:</th>                   <td>OLS</td>       <th>  Adj. R-squared:    </th> <td>   0.005</td>\n",
       "</tr>\n",
       "<tr>\n",
       "  <th>Method:</th>             <td>Least Squares</td>  <th>  F-statistic:       </th> <td>   1.802</td>\n",
       "</tr>\n",
       "<tr>\n",
       "  <th>Date:</th>             <td>Thu, 23 Jan 2020</td> <th>  Prob (F-statistic):</th>  <td> 0.127</td> \n",
       "</tr>\n",
       "<tr>\n",
       "  <th>Time:</th>                 <td>17:53:22</td>     <th>  Log-Likelihood:    </th> <td> -736.12</td>\n",
       "</tr>\n",
       "<tr>\n",
       "  <th>No. Observations:</th>      <td>   600</td>      <th>  AIC:               </th> <td>   1482.</td>\n",
       "</tr>\n",
       "<tr>\n",
       "  <th>Df Residuals:</th>          <td>   595</td>      <th>  BIC:               </th> <td>   1504.</td>\n",
       "</tr>\n",
       "<tr>\n",
       "  <th>Df Model:</th>              <td>     4</td>      <th>                     </th>     <td> </td>   \n",
       "</tr>\n",
       "<tr>\n",
       "  <th>Covariance Type:</th>      <td>nonrobust</td>    <th>                     </th>     <td> </td>   \n",
       "</tr>\n",
       "</table>\n",
       "<table class=\"simpletable\">\n",
       "<tr>\n",
       "        <td></td>          <th>coef</th>     <th>std err</th>      <th>t</th>      <th>P>|t|</th>  <th>[0.025</th>    <th>0.975]</th>  \n",
       "</tr>\n",
       "<tr>\n",
       "  <th>const</th>        <td>    2.5688</td> <td>    0.212</td> <td>   12.120</td> <td> 0.000</td> <td>    2.153</td> <td>    2.985</td>\n",
       "</tr>\n",
       "<tr>\n",
       "  <th>avg_vol</th>      <td>    0.0154</td> <td>    0.013</td> <td>    1.216</td> <td> 0.224</td> <td>   -0.009</td> <td>    0.040</td>\n",
       "</tr>\n",
       "<tr>\n",
       "  <th>total_tracks</th> <td>    0.0125</td> <td>    0.008</td> <td>    1.576</td> <td> 0.116</td> <td>   -0.003</td> <td>    0.028</td>\n",
       "</tr>\n",
       "<tr>\n",
       "  <th>duration</th>     <td>-1.765e-08</td> <td> 4.39e-08</td> <td>   -0.402</td> <td> 0.688</td> <td>-1.04e-07</td> <td> 6.86e-08</td>\n",
       "</tr>\n",
       "<tr>\n",
       "  <th>release_date</th> <td> 4.224e-11</td> <td> 9.52e-11</td> <td>    0.444</td> <td> 0.657</td> <td>-1.45e-10</td> <td> 2.29e-10</td>\n",
       "</tr>\n",
       "</table>\n",
       "<table class=\"simpletable\">\n",
       "<tr>\n",
       "  <th>Omnibus:</th>       <td>19.909</td> <th>  Durbin-Watson:     </th> <td>   1.982</td>\n",
       "</tr>\n",
       "<tr>\n",
       "  <th>Prob(Omnibus):</th> <td> 0.000</td> <th>  Jarque-Bera (JB):  </th> <td>  10.485</td>\n",
       "</tr>\n",
       "<tr>\n",
       "  <th>Skew:</th>          <td>-0.115</td> <th>  Prob(JB):          </th> <td> 0.00529</td>\n",
       "</tr>\n",
       "<tr>\n",
       "  <th>Kurtosis:</th>      <td> 2.395</td> <th>  Cond. No.          </th> <td>9.11e+09</td>\n",
       "</tr>\n",
       "</table><br/><br/>Warnings:<br/>[1] Standard Errors assume that the covariance matrix of the errors is correctly specified.<br/>[2] The condition number is large, 9.11e+09. This might indicate that there are<br/>strong multicollinearity or other numerical problems."
      ],
      "text/plain": [
       "<class 'statsmodels.iolib.summary.Summary'>\n",
       "\"\"\"\n",
       "                            OLS Regression Results                            \n",
       "==============================================================================\n",
       "Dep. Variable:        year_rank_score   R-squared:                       0.012\n",
       "Model:                            OLS   Adj. R-squared:                  0.005\n",
       "Method:                 Least Squares   F-statistic:                     1.802\n",
       "Date:                Thu, 23 Jan 2020   Prob (F-statistic):              0.127\n",
       "Time:                        17:53:22   Log-Likelihood:                -736.12\n",
       "No. Observations:                 600   AIC:                             1482.\n",
       "Df Residuals:                     595   BIC:                             1504.\n",
       "Df Model:                           4                                         \n",
       "Covariance Type:            nonrobust                                         \n",
       "================================================================================\n",
       "                   coef    std err          t      P>|t|      [0.025      0.975]\n",
       "--------------------------------------------------------------------------------\n",
       "const            2.5688      0.212     12.120      0.000       2.153       2.985\n",
       "avg_vol          0.0154      0.013      1.216      0.224      -0.009       0.040\n",
       "total_tracks     0.0125      0.008      1.576      0.116      -0.003       0.028\n",
       "duration     -1.765e-08   4.39e-08     -0.402      0.688   -1.04e-07    6.86e-08\n",
       "release_date  4.224e-11   9.52e-11      0.444      0.657   -1.45e-10    2.29e-10\n",
       "==============================================================================\n",
       "Omnibus:                       19.909   Durbin-Watson:                   1.982\n",
       "Prob(Omnibus):                  0.000   Jarque-Bera (JB):               10.485\n",
       "Skew:                          -0.115   Prob(JB):                      0.00529\n",
       "Kurtosis:                       2.395   Cond. No.                     9.11e+09\n",
       "==============================================================================\n",
       "\n",
       "Warnings:\n",
       "[1] Standard Errors assume that the covariance matrix of the errors is correctly specified.\n",
       "[2] The condition number is large, 9.11e+09. This might indicate that there are\n",
       "strong multicollinearity or other numerical problems.\n",
       "\"\"\""
      ]
     },
     "execution_count": 8,
     "metadata": {},
     "output_type": "execute_result"
    }
   ],
   "source": [
    "df = df_spot_rs_merge\n",
    "X = df[['avg_vol', 'total_tracks', 'duration', 'release_date']]\n",
    "y = np.log10(df.year_rank_score)\n",
    "\n",
    "\n",
    "X = sm.add_constant(X)\n",
    "model = sm.OLS(y,X)\n",
    "\n",
    "results = model.fit()\n",
    "results.summary()"
   ]
  },
  {
   "cell_type": "code",
   "execution_count": null,
   "metadata": {},
   "outputs": [],
   "source": []
  },
  {
   "cell_type": "markdown",
   "metadata": {},
   "source": [
    "### in sklearn"
   ]
  },
  {
   "cell_type": "code",
   "execution_count": 19,
   "metadata": {},
   "outputs": [
    {
     "name": "stdout",
     "output_type": "stream",
     "text": [
      "1\n",
      "coefficients [0.015413419648790947, 0.012520858438414212, -1.7649454413719135e-08, 4.2241467660926235e-11]\n",
      "['avg_vol', 'total_tracks', 'duration', 'release_date']\n",
      "intercetpt 2.5688\n",
      "R^2 0.01197\n",
      "RSE 0.8252513316887136\n",
      "MAE 0.6992182277058957\n"
     ]
    },
    {
     "data": {
      "text/plain": [
       "<matplotlib.collections.PathCollection at 0x232d92b210>"
      ]
     },
     "execution_count": 19,
     "metadata": {},
     "output_type": "execute_result"
    },
    {
     "data": {
      "image/png": "[encoded data removed]",
      "text/plain": [
       "<Figure size 432x288 with 1 Axes>"
      ]
     },
     "metadata": {
      "needs_background": "light"
     },
     "output_type": "display_data"
    }
   ],
   "source": [
    "df = df_spot_rs_merge\n",
    "\n",
    "X = df[['avg_vol', 'total_tracks', 'duration', 'release_date']]\n",
    "y = df.log_score\n",
    "\n",
    "reg = LinearRegression().fit(X, y)\n",
    "reg.score(X, y)\n",
    "\n",
    "print('1')\n",
    "print('coefficients', [coef for coef in reg.coef_])\n",
    "print(['avg_vol', 'total_tracks', 'duration', 'release_date'])\n",
    "print('intercetpt',  round(reg.intercept_, 4))\n",
    "\n",
    "print('R^2', round(reg.score(X, y), 5))\n",
    "print(\"RSE\", math.sqrt(mean_squared_error(y, reg.predict(X))))\n",
    "print(\"MAE\", mean_absolute_error(y, reg.predict(X)))\n",
    "plt.scatter(reg.predict(X), y, alpha=0.5)"
   ]
  },
  {
   "cell_type": "code",
   "execution_count": null,
   "metadata": {},
   "outputs": [],
   "source": []
  },
  {
   "cell_type": "code",
   "execution_count": null,
   "metadata": {},
   "outputs": [],
   "source": []
  },
  {
   "cell_type": "code",
   "execution_count": null,
   "metadata": {},
   "outputs": [],
   "source": []
  },
  {
   "cell_type": "code",
   "execution_count": null,
   "metadata": {},
   "outputs": [],
   "source": []
  },
  {
   "cell_type": "markdown",
   "metadata": {},
   "source": [
    "## Second, with record_label dummy variables"
   ]
  },
  {
   "cell_type": "markdown",
   "metadata": {},
   "source": [
    "### In Statsmodels"
   ]
  },
  {
   "cell_type": "code",
   "execution_count": 10,
   "metadata": {},
   "outputs": [
    {
     "name": "stderr",
     "output_type": "stream",
     "text": [
      "/Users/erik/anaconda3/envs/metis/lib/python3.7/site-packages/numpy/core/fromnumeric.py:2495: FutureWarning: Method .ptp is deprecated and will be removed in a future version. Use numpy.ptp instead.\n",
      "  return ptp(axis=axis, out=out, **kwargs)\n"
     ]
    },
    {
     "data": {
      "text/html": [
       "<table class=\"simpletable\">\n",
       "<caption>OLS Regression Results</caption>\n",
       "<tr>\n",
       "  <th>Dep. Variable:</th>     <td>year_rank_score</td> <th>  R-squared:         </th> <td>   0.083</td>\n",
       "</tr>\n",
       "<tr>\n",
       "  <th>Model:</th>                   <td>OLS</td>       <th>  Adj. R-squared:    </th> <td>   0.068</td>\n",
       "</tr>\n",
       "<tr>\n",
       "  <th>Method:</th>             <td>Least Squares</td>  <th>  F-statistic:       </th> <td>   5.352</td>\n",
       "</tr>\n",
       "<tr>\n",
       "  <th>Date:</th>             <td>Thu, 23 Jan 2020</td> <th>  Prob (F-statistic):</th> <td>1.37e-07</td>\n",
       "</tr>\n",
       "<tr>\n",
       "  <th>Time:</th>                 <td>17:53:23</td>     <th>  Log-Likelihood:    </th> <td> -713.64</td>\n",
       "</tr>\n",
       "<tr>\n",
       "  <th>No. Observations:</th>      <td>   600</td>      <th>  AIC:               </th> <td>   1449.</td>\n",
       "</tr>\n",
       "<tr>\n",
       "  <th>Df Residuals:</th>          <td>   589</td>      <th>  BIC:               </th> <td>   1498.</td>\n",
       "</tr>\n",
       "<tr>\n",
       "  <th>Df Model:</th>              <td>    10</td>      <th>                     </th>     <td> </td>   \n",
       "</tr>\n",
       "<tr>\n",
       "  <th>Covariance Type:</th>      <td>nonrobust</td>    <th>                     </th>     <td> </td>   \n",
       "</tr>\n",
       "</table>\n",
       "<table class=\"simpletable\">\n",
       "<tr>\n",
       "                <td></td>                   <th>coef</th>     <th>std err</th>      <th>t</th>      <th>P>|t|</th>  <th>[0.025</th>    <th>0.975]</th>  \n",
       "</tr>\n",
       "<tr>\n",
       "  <th>const</th>                         <td>    2.3818</td> <td>    0.183</td> <td>   13.008</td> <td> 0.000</td> <td>    2.022</td> <td>    2.741</td>\n",
       "</tr>\n",
       "<tr>\n",
       "  <th>avg_vol</th>                       <td>    0.0142</td> <td>    0.012</td> <td>    1.138</td> <td> 0.255</td> <td>   -0.010</td> <td>    0.039</td>\n",
       "</tr>\n",
       "<tr>\n",
       "  <th>total_tracks</th>                  <td>    0.0119</td> <td>    0.008</td> <td>    1.544</td> <td> 0.123</td> <td>   -0.003</td> <td>    0.027</td>\n",
       "</tr>\n",
       "<tr>\n",
       "  <th>duration</th>                      <td>-1.728e-08</td> <td> 4.28e-08</td> <td>   -0.404</td> <td> 0.686</td> <td>-1.01e-07</td> <td> 6.68e-08</td>\n",
       "</tr>\n",
       "<tr>\n",
       "  <th>release_date</th>                  <td> 7.891e-11</td> <td> 9.39e-11</td> <td>    0.841</td> <td> 0.401</td> <td>-1.05e-10</td> <td> 2.63e-10</td>\n",
       "</tr>\n",
       "<tr>\n",
       "  <th>record_label_Atlantic Records</th> <td>    0.5008</td> <td>    0.133</td> <td>    3.777</td> <td> 0.000</td> <td>    0.240</td> <td>    0.761</td>\n",
       "</tr>\n",
       "<tr>\n",
       "  <th>record_label_Capitol</th>          <td>    0.3065</td> <td>    0.147</td> <td>    2.086</td> <td> 0.037</td> <td>    0.018</td> <td>    0.595</td>\n",
       "</tr>\n",
       "<tr>\n",
       "  <th>record_label_Columbia Records</th> <td>    0.2429</td> <td>    0.138</td> <td>    1.763</td> <td> 0.078</td> <td>   -0.028</td> <td>    0.513</td>\n",
       "</tr>\n",
       "<tr>\n",
       "  <th>record_label_Interscope</th>       <td>    0.5975</td> <td>    0.106</td> <td>    5.662</td> <td> 0.000</td> <td>    0.390</td> <td>    0.805</td>\n",
       "</tr>\n",
       "<tr>\n",
       "  <th>record_label_RCA Records</th>      <td>    0.2997</td> <td>    0.148</td> <td>    2.028</td> <td> 0.043</td> <td>    0.009</td> <td>    0.590</td>\n",
       "</tr>\n",
       "<tr>\n",
       "  <th>record_label_Republic</th>         <td>    0.4465</td> <td>    0.144</td> <td>    3.093</td> <td> 0.002</td> <td>    0.163</td> <td>    0.730</td>\n",
       "</tr>\n",
       "<tr>\n",
       "  <th>record_label_other</th>            <td>   -0.0123</td> <td>    0.063</td> <td>   -0.194</td> <td> 0.846</td> <td>   -0.136</td> <td>    0.112</td>\n",
       "</tr>\n",
       "</table>\n",
       "<table class=\"simpletable\">\n",
       "<tr>\n",
       "  <th>Omnibus:</th>       <td> 6.673</td> <th>  Durbin-Watson:     </th> <td>   1.972</td>\n",
       "</tr>\n",
       "<tr>\n",
       "  <th>Prob(Omnibus):</th> <td> 0.036</td> <th>  Jarque-Bera (JB):  </th> <td>   6.327</td>\n",
       "</tr>\n",
       "<tr>\n",
       "  <th>Skew:</th>          <td>-0.208</td> <th>  Prob(JB):          </th> <td>  0.0423</td>\n",
       "</tr>\n",
       "<tr>\n",
       "  <th>Kurtosis:</th>      <td> 2.716</td> <th>  Cond. No.          </th> <td>3.60e+24</td>\n",
       "</tr>\n",
       "</table><br/><br/>Warnings:<br/>[1] Standard Errors assume that the covariance matrix of the errors is correctly specified.<br/>[2] The smallest eigenvalue is 9.77e-29. This might indicate that there are<br/>strong multicollinearity problems or that the design matrix is singular."
      ],
      "text/plain": [
       "<class 'statsmodels.iolib.summary.Summary'>\n",
       "\"\"\"\n",
       "                            OLS Regression Results                            \n",
       "==============================================================================\n",
       "Dep. Variable:        year_rank_score   R-squared:                       0.083\n",
       "Model:                            OLS   Adj. R-squared:                  0.068\n",
       "Method:                 Least Squares   F-statistic:                     5.352\n",
       "Date:                Thu, 23 Jan 2020   Prob (F-statistic):           1.37e-07\n",
       "Time:                        17:53:23   Log-Likelihood:                -713.64\n",
       "No. Observations:                 600   AIC:                             1449.\n",
       "Df Residuals:                     589   BIC:                             1498.\n",
       "Df Model:                          10                                         \n",
       "Covariance Type:            nonrobust                                         \n",
       "=================================================================================================\n",
       "                                    coef    std err          t      P>|t|      [0.025      0.975]\n",
       "-------------------------------------------------------------------------------------------------\n",
       "const                             2.3818      0.183     13.008      0.000       2.022       2.741\n",
       "avg_vol                           0.0142      0.012      1.138      0.255      -0.010       0.039\n",
       "total_tracks                      0.0119      0.008      1.544      0.123      -0.003       0.027\n",
       "duration                      -1.728e-08   4.28e-08     -0.404      0.686   -1.01e-07    6.68e-08\n",
       "release_date                   7.891e-11   9.39e-11      0.841      0.401   -1.05e-10    2.63e-10\n",
       "record_label_Atlantic Records     0.5008      0.133      3.777      0.000       0.240       0.761\n",
       "record_label_Capitol              0.3065      0.147      2.086      0.037       0.018       0.595\n",
       "record_label_Columbia Records     0.2429      0.138      1.763      0.078      -0.028       0.513\n",
       "record_label_Interscope           0.5975      0.106      5.662      0.000       0.390       0.805\n",
       "record_label_RCA Records          0.2997      0.148      2.028      0.043       0.009       0.590\n",
       "record_label_Republic             0.4465      0.144      3.093      0.002       0.163       0.730\n",
       "record_label_other               -0.0123      0.063     -0.194      0.846      -0.136       0.112\n",
       "==============================================================================\n",
       "Omnibus:                        6.673   Durbin-Watson:                   1.972\n",
       "Prob(Omnibus):                  0.036   Jarque-Bera (JB):                6.327\n",
       "Skew:                          -0.208   Prob(JB):                       0.0423\n",
       "Kurtosis:                       2.716   Cond. No.                     3.60e+24\n",
       "==============================================================================\n",
       "\n",
       "Warnings:\n",
       "[1] Standard Errors assume that the covariance matrix of the errors is correctly specified.\n",
       "[2] The smallest eigenvalue is 9.77e-29. This might indicate that there are\n",
       "strong multicollinearity problems or that the design matrix is singular.\n",
       "\"\"\""
      ]
     },
     "execution_count": 10,
     "metadata": {},
     "output_type": "execute_result"
    }
   ],
   "source": [
    "df = df_spot_rs_merge\n",
    "X = df[['avg_vol', 'total_tracks', 'duration', 'release_date', 'record_label_Atlantic Records',\n",
    "       'record_label_Capitol', 'record_label_Columbia Records',\n",
    "       'record_label_Interscope', 'record_label_RCA Records',\n",
    "       'record_label_Republic', 'record_label_other']]\n",
    "y = np.log10(df.year_rank_score)\n",
    "\n",
    "\n",
    "X = sm.add_constant(X)\n",
    "model = sm.OLS(y,X)\n",
    "\n",
    "results = model.fit()\n",
    "results.summary()\n"
   ]
  },
  {
   "cell_type": "markdown",
   "metadata": {},
   "source": [
    "### in sklearn"
   ]
  },
  {
   "cell_type": "code",
   "execution_count": 18,
   "metadata": {},
   "outputs": [
    {
     "name": "stdout",
     "output_type": "stream",
     "text": [
      "2\n",
      "coefficients [0.014191424220786626, 0.011935901100030726, -1.728055487991033e-08, 7.890566103939099e-11, 0.16058752486875225, -0.03372824200011165, -0.09737612162115585, 0.25729618687912215, -0.04053551562870594, 0.10627320054883099, -0.35251703304673204]\n",
      "['avg_vol', 'total_tracks', 'duration', 'release_date', 'record_label_Atlantic Records', 'record_label_Capitol', 'record_label_Columbia Records', 'record_label_Interscope', 'record_label_RCA Records', 'record_label_Republic', 'record_label_other']\n",
      "intercetpt 2.722\n",
      "R^2 0.08329\n",
      "RSE 0.7949062333178634\n",
      "MAE 0.6642512843788034\n"
     ]
    },
    {
     "data": {
      "text/plain": [
       "<matplotlib.collections.PathCollection at 0x232d7dd790>"
      ]
     },
     "execution_count": 18,
     "metadata": {},
     "output_type": "execute_result"
    },
    {
     "data": {
      "image/png": "[encoded data removed]",
      "text/plain": [
       "<Figure size 432x288 with 1 Axes>"
      ]
     },
     "metadata": {
      "needs_background": "light"
     },
     "output_type": "display_data"
    }
   ],
   "source": [
    "df = df_spot_rs_merge\n",
    "\n",
    "X = df[['avg_vol', 'total_tracks', 'duration', 'release_date', 'record_label_Atlantic Records',\n",
    "       'record_label_Capitol', 'record_label_Columbia Records',\n",
    "       'record_label_Interscope', 'record_label_RCA Records',\n",
    "       'record_label_Republic', 'record_label_other']]\n",
    "y = df.log_score\n",
    "\n",
    "reg = LinearRegression().fit(X, y)\n",
    "reg.score(X, y)\n",
    "\n",
    "print(2)\n",
    "print('coefficients', [coef for coef in reg.coef_])\n",
    "print(['avg_vol', 'total_tracks', 'duration', 'release_date', 'record_label_Atlantic Records',\n",
    "       'record_label_Capitol', 'record_label_Columbia Records',\n",
    "       'record_label_Interscope', 'record_label_RCA Records',\n",
    "       'record_label_Republic', 'record_label_other'])\n",
    "print('intercetpt',  round(reg.intercept_, 4))\n",
    "\n",
    "print('R^2', round(reg.score(X, y), 5))\n",
    "print(\"RSE\", math.sqrt(mean_squared_error(y, reg.predict(X))))\n",
    "print(\"MAE\", mean_absolute_error(y, reg.predict(X)))\n",
    "plt.scatter(reg.predict(X), y, alpha=0.5)"
   ]
  },
  {
   "cell_type": "markdown",
   "metadata": {},
   "source": [
    "## Try with only dummy variables\n",
    "Is that even meaningful?"
   ]
  },
  {
   "cell_type": "markdown",
   "metadata": {},
   "source": [
    "### In statsmodels"
   ]
  },
  {
   "cell_type": "code",
   "execution_count": 12,
   "metadata": {},
   "outputs": [
    {
     "name": "stderr",
     "output_type": "stream",
     "text": [
      "/Users/erik/anaconda3/envs/metis/lib/python3.7/site-packages/numpy/core/fromnumeric.py:2495: FutureWarning: Method .ptp is deprecated and will be removed in a future version. Use numpy.ptp instead.\n",
      "  return ptp(axis=axis, out=out, **kwargs)\n"
     ]
    },
    {
     "data": {
      "text/html": [
       "<table class=\"simpletable\">\n",
       "<caption>OLS Regression Results</caption>\n",
       "<tr>\n",
       "  <th>Dep. Variable:</th>     <td>year_rank_score</td> <th>  R-squared:         </th> <td>   0.071</td>\n",
       "</tr>\n",
       "<tr>\n",
       "  <th>Model:</th>                   <td>OLS</td>       <th>  Adj. R-squared:    </th> <td>   0.062</td>\n",
       "</tr>\n",
       "<tr>\n",
       "  <th>Method:</th>             <td>Least Squares</td>  <th>  F-statistic:       </th> <td>   7.600</td>\n",
       "</tr>\n",
       "<tr>\n",
       "  <th>Date:</th>             <td>Thu, 23 Jan 2020</td> <th>  Prob (F-statistic):</th> <td>7.13e-08</td>\n",
       "</tr>\n",
       "<tr>\n",
       "  <th>Time:</th>                 <td>17:53:23</td>     <th>  Log-Likelihood:    </th> <td> -717.51</td>\n",
       "</tr>\n",
       "<tr>\n",
       "  <th>No. Observations:</th>      <td>   600</td>      <th>  AIC:               </th> <td>   1449.</td>\n",
       "</tr>\n",
       "<tr>\n",
       "  <th>Df Residuals:</th>          <td>   593</td>      <th>  BIC:               </th> <td>   1480.</td>\n",
       "</tr>\n",
       "<tr>\n",
       "  <th>Df Model:</th>              <td>     6</td>      <th>                     </th>     <td> </td>   \n",
       "</tr>\n",
       "<tr>\n",
       "  <th>Covariance Type:</th>      <td>nonrobust</td>    <th>                     </th>     <td> </td>   \n",
       "</tr>\n",
       "</table>\n",
       "<table class=\"simpletable\">\n",
       "<tr>\n",
       "                <td></td>                   <th>coef</th>     <th>std err</th>      <th>t</th>      <th>P>|t|</th>  <th>[0.025</th>    <th>0.975]</th>  \n",
       "</tr>\n",
       "<tr>\n",
       "  <th>const</th>                         <td>    2.4875</td> <td>    0.045</td> <td>   55.642</td> <td> 0.000</td> <td>    2.400</td> <td>    2.575</td>\n",
       "</tr>\n",
       "<tr>\n",
       "  <th>record_label_Atlantic Records</th> <td>    0.5346</td> <td>    0.131</td> <td>    4.079</td> <td> 0.000</td> <td>    0.277</td> <td>    0.792</td>\n",
       "</tr>\n",
       "<tr>\n",
       "  <th>record_label_Capitol</th>          <td>    0.2867</td> <td>    0.144</td> <td>    1.994</td> <td> 0.047</td> <td>    0.004</td> <td>    0.569</td>\n",
       "</tr>\n",
       "<tr>\n",
       "  <th>record_label_Columbia Records</th> <td>    0.2250</td> <td>    0.133</td> <td>    1.692</td> <td> 0.091</td> <td>   -0.036</td> <td>    0.486</td>\n",
       "</tr>\n",
       "<tr>\n",
       "  <th>record_label_Interscope</th>       <td>    0.6282</td> <td>    0.103</td> <td>    6.125</td> <td> 0.000</td> <td>    0.427</td> <td>    0.830</td>\n",
       "</tr>\n",
       "<tr>\n",
       "  <th>record_label_RCA Records</th>      <td>    0.3144</td> <td>    0.144</td> <td>    2.186</td> <td> 0.029</td> <td>    0.032</td> <td>    0.597</td>\n",
       "</tr>\n",
       "<tr>\n",
       "  <th>record_label_Republic</th>         <td>    0.4845</td> <td>    0.141</td> <td>    3.427</td> <td> 0.001</td> <td>    0.207</td> <td>    0.762</td>\n",
       "</tr>\n",
       "<tr>\n",
       "  <th>record_label_other</th>            <td>    0.0141</td> <td>    0.057</td> <td>    0.248</td> <td> 0.804</td> <td>   -0.097</td> <td>    0.125</td>\n",
       "</tr>\n",
       "</table>\n",
       "<table class=\"simpletable\">\n",
       "<tr>\n",
       "  <th>Omnibus:</th>       <td> 5.759</td> <th>  Durbin-Watson:     </th> <td>   1.978</td>\n",
       "</tr>\n",
       "<tr>\n",
       "  <th>Prob(Omnibus):</th> <td> 0.056</td> <th>  Jarque-Bera (JB):  </th> <td>   5.577</td>\n",
       "</tr>\n",
       "<tr>\n",
       "  <th>Skew:</th>          <td>-0.199</td> <th>  Prob(JB):          </th> <td>  0.0615</td>\n",
       "</tr>\n",
       "<tr>\n",
       "  <th>Kurtosis:</th>      <td> 2.745</td> <th>  Cond. No.          </th> <td>2.22e+16</td>\n",
       "</tr>\n",
       "</table><br/><br/>Warnings:<br/>[1] Standard Errors assume that the covariance matrix of the errors is correctly specified.<br/>[2] The smallest eigenvalue is 1.86e-30. This might indicate that there are<br/>strong multicollinearity problems or that the design matrix is singular."
      ],
      "text/plain": [
       "<class 'statsmodels.iolib.summary.Summary'>\n",
       "\"\"\"\n",
       "                            OLS Regression Results                            \n",
       "==============================================================================\n",
       "Dep. Variable:        year_rank_score   R-squared:                       0.071\n",
       "Model:                            OLS   Adj. R-squared:                  0.062\n",
       "Method:                 Least Squares   F-statistic:                     7.600\n",
       "Date:                Thu, 23 Jan 2020   Prob (F-statistic):           7.13e-08\n",
       "Time:                        17:53:23   Log-Likelihood:                -717.51\n",
       "No. Observations:                 600   AIC:                             1449.\n",
       "Df Residuals:                     593   BIC:                             1480.\n",
       "Df Model:                           6                                         \n",
       "Covariance Type:            nonrobust                                         \n",
       "=================================================================================================\n",
       "                                    coef    std err          t      P>|t|      [0.025      0.975]\n",
       "-------------------------------------------------------------------------------------------------\n",
       "const                             2.4875      0.045     55.642      0.000       2.400       2.575\n",
       "record_label_Atlantic Records     0.5346      0.131      4.079      0.000       0.277       0.792\n",
       "record_label_Capitol              0.2867      0.144      1.994      0.047       0.004       0.569\n",
       "record_label_Columbia Records     0.2250      0.133      1.692      0.091      -0.036       0.486\n",
       "record_label_Interscope           0.6282      0.103      6.125      0.000       0.427       0.830\n",
       "record_label_RCA Records          0.3144      0.144      2.186      0.029       0.032       0.597\n",
       "record_label_Republic             0.4845      0.141      3.427      0.001       0.207       0.762\n",
       "record_label_other                0.0141      0.057      0.248      0.804      -0.097       0.125\n",
       "==============================================================================\n",
       "Omnibus:                        5.759   Durbin-Watson:                   1.978\n",
       "Prob(Omnibus):                  0.056   Jarque-Bera (JB):                5.577\n",
       "Skew:                          -0.199   Prob(JB):                       0.0615\n",
       "Kurtosis:                       2.745   Cond. No.                     2.22e+16\n",
       "==============================================================================\n",
       "\n",
       "Warnings:\n",
       "[1] Standard Errors assume that the covariance matrix of the errors is correctly specified.\n",
       "[2] The smallest eigenvalue is 1.86e-30. This might indicate that there are\n",
       "strong multicollinearity problems or that the design matrix is singular.\n",
       "\"\"\""
      ]
     },
     "execution_count": 12,
     "metadata": {},
     "output_type": "execute_result"
    }
   ],
   "source": [
    "df = df_spot_rs_merge\n",
    "X = df[['record_label_Atlantic Records',\n",
    "       'record_label_Capitol', 'record_label_Columbia Records',\n",
    "       'record_label_Interscope', 'record_label_RCA Records',\n",
    "       'record_label_Republic', 'record_label_other']]\n",
    "y = np.log10(df.year_rank_score)\n",
    "\n",
    "\n",
    "X = sm.add_constant(X)\n",
    "model = sm.OLS(y,X)\n",
    "\n",
    "results = model.fit()\n",
    "results.summary()"
   ]
  },
  {
   "cell_type": "markdown",
   "metadata": {},
   "source": [
    "### In sklearn"
   ]
  },
  {
   "cell_type": "code",
   "execution_count": 20,
   "metadata": {},
   "outputs": [
    {
     "name": "stdout",
     "output_type": "stream",
     "text": [
      "3\n",
      "coefficients [0.1792125449389923, -0.06860631167257054, -0.13039988807148126, 0.2728689853438593, -0.04095964708754431, 0.12917405545307736, -0.34128973890433295]\n",
      "['record_label_Atlantic Records', 'record_label_Capitol', 'record_label_Columbia Records', 'record_label_Interscope', 'record_label_RCA Records', 'record_label_Republic', 'record_label_other']\n",
      "intercetpt 2.8428\n",
      "R^2 0.07141\n",
      "RSE 0.8000424091554693\n",
      "MAE 0.6637163645288884\n"
     ]
    },
    {
     "data": {
      "text/plain": [
       "<matplotlib.collections.PathCollection at 0x232d9ff9d0>"
      ]
     },
     "execution_count": 20,
     "metadata": {},
     "output_type": "execute_result"
    },
    {
     "data": {
      "image/png": "[encoded data removed]",
      "text/plain": [
       "<Figure size 432x288 with 1 Axes>"
      ]
     },
     "metadata": {
      "needs_background": "light"
     },
     "output_type": "display_data"
    }
   ],
   "source": [
    "df = df_spot_rs_merge\n",
    "\n",
    "X = df[['record_label_Atlantic Records',\n",
    "       'record_label_Capitol', 'record_label_Columbia Records',\n",
    "       'record_label_Interscope', 'record_label_RCA Records',\n",
    "       'record_label_Republic', 'record_label_other']]\n",
    "y = df.log_score\n",
    "\n",
    "reg = LinearRegression().fit(X, y)\n",
    "reg.score(X, y)\n",
    "\n",
    "print(3)\n",
    "print('coefficients', [coef for coef in reg.coef_])\n",
    "print(['record_label_Atlantic Records',\n",
    "       'record_label_Capitol', 'record_label_Columbia Records',\n",
    "       'record_label_Interscope', 'record_label_RCA Records',\n",
    "       'record_label_Republic', 'record_label_other'])\n",
    "print('intercetpt',  round(reg.intercept_, 4))\n",
    "\n",
    "print('R^2', round(reg.score(X, y), 5))\n",
    "print(\"RSE\", math.sqrt(mean_squared_error(y, reg.predict(X))))\n",
    "print(\"MAE\", mean_absolute_error(y, reg.predict(X)))\n",
    "plt.scatter(reg.predict(X), y, alpha = .5)"
   ]
  },
  {
   "cell_type": "markdown",
   "metadata": {},
   "source": [
    "## Summarize results from sklearn"
   ]
  },
  {
   "cell_type": "markdown",
   "metadata": {},
   "source": [
    "```\n",
    "1\n",
    "coefficients [0.015413419648790947, 0.012520858438414212, -1.7649454413719135e-08, 4.2241467660926235e-11]\n",
    "['avg_vol', 'total_tracks', 'duration', 'release_date']\n",
    "intercetpt 2.5688\n",
    "R^2 0.01197\n",
    "RSE 0.8252513316887136\n",
    "MAE 0.6992182277058957\n",
    "\n",
    "2\n",
    "coefficients [0.014191424220786626, 0.011935901100030726, -1.728055487991033e-08, 7.890566103939099e-11, 0.16058752486875225, -0.03372824200011165, -0.09737612162115585, 0.25729618687912215, -0.04053551562870594, 0.10627320054883099, -0.35251703304673204]\n",
    "['avg_vol', 'total_tracks', 'duration', 'release_date', 'record_label_Atlantic Records', 'record_label_Capitol', 'record_label_Columbia Records', 'record_label_Interscope', 'record_label_RCA Records', 'record_label_Republic', 'record_label_other']\n",
    "intercetpt 2.722\n",
    "R^2 0.08329\n",
    "RSE 0.7949062333178634\n",
    "MAE 0.6642512843788034\n",
    "\n",
    "3\n",
    "coefficients [0.1792125449389923, -0.06860631167257054, -0.13039988807148126, 0.2728689853438593, -0.04095964708754431, 0.12917405545307736, -0.34128973890433295]\n",
    "['record_label_Atlantic Records', 'record_label_Capitol', 'record_label_Columbia Records', 'record_label_Interscope', 'record_label_RCA Records', 'record_label_Republic', 'record_label_other']\n",
    "intercetpt 2.8428\n",
    "R^2 0.07141\n",
    "RSE 0.8000424091554693\n",
    "MAE 0.6637163645288884\n",
    "```"
   ]
  },
  {
   "cell_type": "code",
   "execution_count": 14,
   "metadata": {},
   "outputs": [
    {
     "data": {
      "text/plain": [
       "<matplotlib.collections.PathCollection at 0x232d571310>"
      ]
     },
     "execution_count": 14,
     "metadata": {},
     "output_type": "execute_result"
    },
    {
     "data": {
      "image/png": "[encoded data removed]",
      "text/plain": [
       "<Figure size 432x288 with 1 Axes>"
      ]
     },
     "metadata": {
      "needs_background": "light"
     },
     "output_type": "display_data"
    }
   ],
   "source": [
    "plt.scatter(reg.predict(X), y)"
   ]
  },
  {
   "cell_type": "code",
   "execution_count": null,
   "metadata": {},
   "outputs": [],
   "source": []
  },
  {
   "cell_type": "code",
   "execution_count": null,
   "metadata": {},
   "outputs": [],
   "source": []
  },
  {
   "cell_type": "code",
   "execution_count": null,
   "metadata": {},
   "outputs": [],
   "source": []
  },
  {
   "cell_type": "code",
   "execution_count": null,
   "metadata": {},
   "outputs": [],
   "source": []
  },
  {
   "cell_type": "code",
   "execution_count": null,
   "metadata": {},
   "outputs": [],
   "source": []
  },
  {
   "cell_type": "code",
   "execution_count": null,
   "metadata": {},
   "outputs": [],
   "source": []
  },
  {
   "cell_type": "code",
   "execution_count": null,
   "metadata": {},
   "outputs": [],
   "source": []
  },
  {
   "cell_type": "code",
   "execution_count": null,
   "metadata": {},
   "outputs": [],
   "source": []
  },
  {
   "cell_type": "code",
   "execution_count": null,
   "metadata": {},
   "outputs": [],
   "source": []
  }
 ],
 "metadata": {
  "kernelspec": {
   "display_name": "Python [conda env:metis]",
   "language": "python",
   "name": "conda-env-metis-py"
  },
  "language_info": {
   "codemirror_mode": {
    "name": "ipython",
    "version": 3
   },
   "file_extension": ".py",
   "mimetype": "text/x-python",
   "name": "python",
   "nbconvert_exporter": "python",
   "pygments_lexer": "ipython3",
   "version": "3.7.4"
  },
  "toc": {
   "base_numbering": 1,
   "nav_menu": {},
   "number_sections": true,
   "sideBar": true,
   "skip_h1_title": false,
   "title_cell": "Table of Contents",
   "title_sidebar": "Contents",
   "toc_cell": false,
   "toc_position": {
    "height": "calc(100% - 180px)",
    "left": "10px",
    "top": "150px",
    "width": "217.1875px"
   },
   "toc_section_display": true,
   "toc_window_display": true
  }
 },
 "nbformat": 4,
 "nbformat_minor": 2
}
